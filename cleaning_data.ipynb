{
 "cells": [
  {
   "cell_type": "code",
   "execution_count": null,
   "id": "134496ed",
   "metadata": {},
   "outputs": [],
   "source": [
    "# Add pandas dependency\n",
    "import pandas as pd"
   ]
  },
  {
   "cell_type": "code",
   "execution_count": null,
   "id": "3229907d",
   "metadata": {},
   "outputs": [],
   "source": [
    "# Files to Load\n",
    "file_to_load = \"Resources/missing_grades.csv\"\n",
    "\n",
    "# Read the CSV into a DataFrame\n",
    "missing_grade_df = pd.read_csv(file_to_load)\n",
    "missing_grade_df"
   ]
  },
  {
   "cell_type": "code",
   "execution_count": null,
   "id": "27209689",
   "metadata": {},
   "outputs": [],
   "source": [
    "# Drop the Nan's\n",
    "missing_grade_df.dropna()"
   ]
  },
  {
   "cell_type": "code",
   "execution_count": null,
   "id": "49813b25",
   "metadata": {},
   "outputs": [],
   "source": [
    "# Fill in the empty rows with \"85\"\n",
    "missing_grade_df.fillna(85)"
   ]
  },
  {
   "cell_type": "code",
   "execution_count": null,
   "id": "a9255a47",
   "metadata": {},
   "outputs": [],
   "source": []
  },
  {
   "cell_type": "code",
   "execution_count": null,
   "id": "b1028f3b",
   "metadata": {},
   "outputs": [],
   "source": []
  }
 ],
 "metadata": {
  "kernelspec": {
   "display_name": "PythonData",
   "language": "python",
   "name": "pythondata"
  },
  "language_info": {
   "codemirror_mode": {
    "name": "ipython",
    "version": 3
   },
   "file_extension": ".py",
   "mimetype": "text/x-python",
   "name": "python",
   "nbconvert_exporter": "python",
   "pygments_lexer": "ipython3",
   "version": "3.8.8"
  }
 },
 "nbformat": 4,
 "nbformat_minor": 5
}
